{
 "cells": [
  {
   "cell_type": "code",
   "execution_count": null,
   "id": "3b281e0c",
   "metadata": {},
   "outputs": [],
   "source": [
    "#District Summary\n",
    "#Create a high-level snapshot, in a DataFrame, of the district's key metrics"
   ]
  },
  {
   "cell_type": "code",
   "execution_count": null,
   "id": "e6691227",
   "metadata": {},
   "outputs": [],
   "source": [
    "#import dependencies\n",
    "import pandas as pd\n",
    "import numpy as np"
   ]
  },
  {
   "cell_type": "code",
   "execution_count": null,
   "id": "6a8b8b10",
   "metadata": {},
   "outputs": [],
   "source": [
    "#import csv files\n",
    "csv_students = \"/Users/Jerry/Documents/Homework/students_complete.csv\"\n",
    "csv_schools = \"/Users/Jerry/Documents/Homework/schools_complete.csv\"\n",
    "csv_purchases = \"/Users/Jerry/Documents/Homework/purchase_data.csv\"\n",
    "\n",
    "students_df = pd.read_csv(csv_students)\n",
    "schools_df = pd.read_csv(csv_schools)\n",
    "purchases_df = pd.read_csv(csv_purchases)\n",
    "\n",
    "#combine the data into a singe dataset\n",
    "school_data_complete = pd.merge(students_df, schools_df, how = \"left\", on=[\"school_name\", \"school_name\"])\n",
    "\n",
    "                                "
   ]
  },
  {
   "cell_type": "code",
   "execution_count": null,
   "id": "9f06670c",
   "metadata": {},
   "outputs": [],
   "source": [
    "#Total schools\n",
    "total_schools = schools_df[\"school_name\"].count()"
   ]
  },
  {
   "cell_type": "code",
   "execution_count": null,
   "id": "f4dd85c4",
   "metadata": {},
   "outputs": [],
   "source": [
    "#Total students\n",
    "total_students = students_df[\"Student ID\"].count()"
   ]
  },
  {
   "cell_type": "code",
   "execution_count": null,
   "id": "c73ec961",
   "metadata": {},
   "outputs": [],
   "source": [
    "#Total budget\n",
    "total_budget = schools_df[\"budget\"].sum()"
   ]
  },
  {
   "cell_type": "code",
   "execution_count": null,
   "id": "3bb65923",
   "metadata": {},
   "outputs": [],
   "source": [
    "#Average math score\n",
    "#round to the hundrednth decimal place\n",
    "avg_math_score = round((students_df[\"math_score\"].mean()), 2)"
   ]
  },
  {
   "cell_type": "code",
   "execution_count": null,
   "id": "488e6a85",
   "metadata": {},
   "outputs": [],
   "source": [
    "#Average reading score\n",
    "avg_reading_score = round((students_df[\"reading_score\"].mean()), 2)"
   ]
  },
  {
   "cell_type": "code",
   "execution_count": null,
   "id": "dd9d8107",
   "metadata": {},
   "outputs": [],
   "source": [
    "# % passing math (the percentage of students who passed math)\n",
    "\n",
    "#create a for loop to count the students who have a passing math score\n",
    "math_passing = 0\n",
    "\n",
    "for scores in students_df[\"math_score\"]:\n",
    "    if scores >= 70:\n",
    "        math_passing = math_passing + 1\n",
    "        \n",
    "#now compare math_passing to total students \n",
    "percent_passing_math = round((math_passing / total_students), 4)\n"
   ]
  },
  {
   "cell_type": "code",
   "execution_count": null,
   "id": "03e1a481",
   "metadata": {},
   "outputs": [],
   "source": [
    "#% passing reading (the percentage of students who passed reading)\n",
    "\n",
    "#create a variable to hold the number of students passing reading\n",
    "reading_passing = 0\n",
    "\n",
    "#create a for loop to count the number of students who passed reading \n",
    "for scores in students_df[\"reading_score\"]:\n",
    "    if scores >= 70:\n",
    "        reading_passing = reading_passing + 1\n",
    "        \n",
    "# check if reading_passing populates correctly\n",
    "#reading_passing\n",
    "\n",
    "#The percent of student who passed reading district wide\n",
    "percent_passing_reading = round((reading_passing / total_students), 2)\n",
    "\n",
    "#check if percent_passing_reading populates correctly\n",
    "#percent_passing_reading\n"
   ]
  },
  {
   "cell_type": "code",
   "execution_count": null,
   "id": "13239379",
   "metadata": {},
   "outputs": [],
   "source": [
    "# % overall passing (the percentage of students who passed math AND reading\n",
    "\n",
    "#Filter main df \"students_df\" to essential columns\n",
    "filtered_students_df = students_df[[\"Student ID\", \"reading_score\", \"math_score\"]]\n",
    "\n",
    "#Filter out students who didn't pass math with a 70 or higher\n",
    "students_table = filtered_students_df.loc[filtered_students_df[\"math_score\"] >= 70, :]\n",
    "\n",
    "#filter out students who didn't pass reading either with a 70 or higher\n",
    "\n",
    "students_table = students_table.loc[students_table[\"reading_score\"] >= 70, :]\n",
    "\n",
    "#run a check to see the number of students who passed math AND reading\n",
    "#create a variable for this number\n",
    "passing_mr = students_table[\"Student ID\"].count()\n",
    "\n",
    "#compare this number with total number of students. \n",
    "#note m = math and r = reading\n",
    "percentage_passing_mr = round((passing_mr / total_students), 2)"
   ]
  },
  {
   "cell_type": "code",
   "execution_count": null,
   "id": "06a8a831",
   "metadata": {},
   "outputs": [],
   "source": [
    "#Create a dataframe to hold the above results\n",
    "#check data type of total_students\n",
    "##type(total_schools)\n",
    "\n",
    "d = {'Total Schools':[total_schools], 'Total Students':[total_students], \n",
    "     'Total Budget':[total_budget], 'Average Math Score':[avg_math_score], \n",
    "     'Average Reading Score':[avg_reading_score], '% Passing Math':[percent_passing_math], \n",
    "     '% Passing Reading':[percent_passing_reading], '% Overall Passing':[percentage_passing_mr]}\n",
    "district_summary_df = pd.DataFrame(data = d)\n"
   ]
  },
  {
   "cell_type": "code",
   "execution_count": null,
   "id": "e3d2e507",
   "metadata": {},
   "outputs": [],
   "source": [
    "#final data frame for the district \n",
    "district_summary_df"
   ]
  }
 ],
 "metadata": {
  "kernelspec": {
   "display_name": "Python 3 (ipykernel)",
   "language": "python",
   "name": "python3"
  },
  "language_info": {
   "codemirror_mode": {
    "name": "ipython",
    "version": 3
   },
   "file_extension": ".py",
   "mimetype": "text/x-python",
   "name": "python",
   "nbconvert_exporter": "python",
   "pygments_lexer": "ipython3",
   "version": "3.9.7"
  }
 },
 "nbformat": 4,
 "nbformat_minor": 5
}
